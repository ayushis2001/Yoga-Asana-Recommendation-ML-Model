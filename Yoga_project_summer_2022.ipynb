{
  "cells": [
    {
      "cell_type": "code",
      "execution_count": 682,
      "metadata": {
        "id": "MlDLIKbREO1_"
      },
      "outputs": [],
      "source": [
        "import gensim\n",
        "import pandas as pd\n",
        "from gensim.models import Word2Vec"
      ]
    },
    {
      "cell_type": "code",
      "execution_count": 683,
      "metadata": {
        "id": "1zTj610zEfu6"
      },
      "outputs": [],
      "source": [
        "data = pd.read_csv(\"info.csv\")"
      ]
    },
    {
      "cell_type": "code",
      "execution_count": 684,
      "metadata": {
        "id": "L29lu4wQeGDs"
      },
      "outputs": [],
      "source": [
        "asana_dataset = pd.read_csv('Book1.csv')"
      ]
    },
    {
      "cell_type": "code",
      "execution_count": null,
      "metadata": {
        "id": "KyprNI5rHSDW"
      },
      "outputs": [],
      "source": [
        "data"
      ]
    },
    {
      "cell_type": "code",
      "execution_count": null,
      "metadata": {
        "id": "sOYUttr4ee0B"
      },
      "outputs": [],
      "source": [
        "asana_dataset['asanas']"
      ]
    },
    {
      "cell_type": "code",
      "execution_count": 687,
      "metadata": {
        "colab": {
          "base_uri": "https://localhost:8080/"
        },
        "id": "EQCPw3x1VHkb",
        "outputId": "fcdc69ec-721b-4ebf-87dc-f274c4c8712e"
      },
      "outputs": [
        {
          "name": "stderr",
          "output_type": "stream",
          "text": [
            "[nltk_data] Downloading package stopwords to /root/nltk_data...\n",
            "[nltk_data]   Package stopwords is already up-to-date!\n"
          ]
        }
      ],
      "source": [
        "import re\n",
        "import nltk\n",
        "nltk.download('stopwords')\n",
        "\n",
        "corpus = []\n",
        "for i in range(0, 38):\n",
        "  processed_data = re.sub('[^a-zA-Z]', ' ', data['Benefits'][i])\n",
        "  processed_data = processed_data.lower()\n",
        "  processed_data = processed_data.split()\n",
        "  all_stopwords = stopwords.words('english')\n",
        "\n",
        "  processed_data = [word for word in processed_data if not word in set(all_stopwords)]\n",
        "  processed_data = ' '.join(processed_data)\n",
        "  corpus.append(processed_data)"
      ]
    },
    {
      "cell_type": "code",
      "execution_count": 688,
      "metadata": {
        "id": "wMllkTISrTkH"
      },
      "outputs": [],
      "source": [
        "for i in range(0,38):\n",
        "  data['Benefits'][i] = corpus[i]"
      ]
    },
    {
      "cell_type": "code",
      "execution_count": null,
      "metadata": {
        "id": "mxQAZtH6rwOL"
      },
      "outputs": [],
      "source": [
        "data"
      ]
    },
    {
      "cell_type": "code",
      "execution_count": 690,
      "metadata": {
        "id": "NZsNFfsztojh"
      },
      "outputs": [],
      "source": [
        "final = data.Benefits.apply(gensim.utils.simple_preprocess) #Convert a document into a list of lowercase tokens, ignoring tokens that are too short or too long."
      ]
    },
    {
      "cell_type": "code",
      "execution_count": null,
      "metadata": {
        "id": "xyryVlg-vWzW"
      },
      "outputs": [],
      "source": [
        "final"
      ]
    },
    {
      "cell_type": "code",
      "execution_count": null,
      "metadata": {
        "id": "dawqTp7Der-G"
      },
      "outputs": [],
      "source": [
        "len(final)"
      ]
    },
    {
      "cell_type": "code",
      "execution_count": 693,
      "metadata": {
        "id": "hbiKizgcewDn"
      },
      "outputs": [],
      "source": [
        "connected_dataset = []"
      ]
    },
    {
      "cell_type": "code",
      "execution_count": 694,
      "metadata": {
        "id": "L4THJ-0KepiC"
      },
      "outputs": [],
      "source": [
        "for i in range(len(final)):\n",
        "  for j in range(len(final[i])):\n",
        "    connected_dataset.append(asana_dataset['asanas'][i])"
      ]
    },
    {
      "cell_type": "code",
      "execution_count": null,
      "metadata": {
        "id": "AA4HDYOXgH3p"
      },
      "outputs": [],
      "source": [
        "len(connected_dataset)"
      ]
    },
    {
      "cell_type": "code",
      "execution_count": 696,
      "metadata": {
        "id": "EYtSYwGcqdyN"
      },
      "outputs": [],
      "source": [
        "model = Word2Vec(sentences = final, sg=1, min_count=1, workers=4, window = 5, size = 20)"
      ]
    },
    {
      "cell_type": "code",
      "execution_count": null,
      "metadata": {
        "id": "Mf6xTAM2qd1M"
      },
      "outputs": [],
      "source": [
        "model.train(final, total_examples=model.corpus_count, epochs=1000)"
      ]
    },
    {
      "cell_type": "code",
      "execution_count": null,
      "metadata": {
        "id": "QKgnxMEoA-hZ"
      },
      "outputs": [],
      "source": [
        "model.wv['musculoskeletal']"
      ]
    },
    {
      "cell_type": "code",
      "execution_count": null,
      "metadata": {
        "id": "K5navScWuLJw"
      },
      "outputs": [],
      "source": [
        "model.wv.vocab"
      ]
    },
    {
      "cell_type": "code",
      "execution_count": null,
      "metadata": {
        "id": "02AJ0oAhntSn"
      },
      "outputs": [],
      "source": [
        "final"
      ]
    },
    {
      "cell_type": "code",
      "execution_count": null,
      "metadata": {
        "id": "C7wZKfe5q5pJ"
      },
      "outputs": [],
      "source": [
        "model.wv.word_vec('pain') #another way to get embeddings of a word."
      ]
    },
    {
      "cell_type": "code",
      "execution_count": null,
      "metadata": {
        "id": "NIKQR-SIo9H6"
      },
      "outputs": [],
      "source": [
        "final[0][0]"
      ]
    },
    {
      "cell_type": "code",
      "execution_count": 704,
      "metadata": {
        "id": "RsMpwcKupG_h"
      },
      "outputs": [],
      "source": [
        "model.wv.most_similar(\"depression\", topn = 10 )"
      ]
    },
    {
      "cell_type": "code",
      "execution_count": 705,
      "metadata": {
        "id": "DODcVmzjoEnE"
      },
      "outputs": [],
      "source": [
        "embeddings_dash = []\n",
        "for i in range(len(final)):\n",
        "  for j in final[i]:\n",
        "    embeddings_dash.append(model.wv[j])"
      ]
    },
    {
      "cell_type": "code",
      "execution_count": null,
      "metadata": {
        "id": "nJyBz7PGoGuA"
      },
      "outputs": [],
      "source": [
        "len(embeddings_dash[0])"
      ]
    },
    {
      "cell_type": "code",
      "execution_count": null,
      "metadata": {
        "id": "bj_7sJJnrG27"
      },
      "outputs": [],
      "source": [
        "embeddings_dash[0]"
      ]
    },
    {
      "cell_type": "code",
      "execution_count": 709,
      "metadata": {
        "id": "h51kZkvTuxwp"
      },
      "outputs": [],
      "source": [
        "for i in range(len(embeddings_dash)):\n",
        "  embeddings_dash[i] = np.pad(embeddings_dash[i],(6,6))"
      ]
    },
    {
      "cell_type": "code",
      "execution_count": null,
      "metadata": {
        "id": "S-Bh3x06vAme"
      },
      "outputs": [],
      "source": [
        "len(embeddings_dash[0])"
      ]
    },
    {
      "cell_type": "code",
      "execution_count": null,
      "metadata": {
        "id": "AIIsAkiBq6OD"
      },
      "outputs": [],
      "source": [
        "embeddings_dash[0]"
      ]
    },
    {
      "cell_type": "code",
      "execution_count": null,
      "metadata": {
        "id": "MqO1AmUzr9pw"
      },
      "outputs": [],
      "source": [
        "final[0][0]"
      ]
    },
    {
      "cell_type": "code",
      "execution_count": 713,
      "metadata": {
        "id": "0QQ1KlduiO7p"
      },
      "outputs": [],
      "source": [
        "import numpy as np\n",
        "embeddings_dash = np.array(embeddings_dash)"
      ]
    },
    {
      "cell_type": "code",
      "execution_count": null,
      "metadata": {
        "id": "5EHbcoxAihGq"
      },
      "outputs": [],
      "source": [
        "embeddings_dash"
      ]
    },
    {
      "cell_type": "code",
      "execution_count": 720,
      "metadata": {
        "id": "am8R_0L4jEUB"
      },
      "outputs": [],
      "source": [
        "def one_hot(array):\n",
        "    unique, inverse = np.unique(array, return_inverse=True)\n",
        "    onehot = np.eye(unique.shape[0])[inverse]\n",
        "    return onehot"
      ]
    },
    {
      "cell_type": "code",
      "execution_count": 721,
      "metadata": {
        "id": "uKGv4g90jFto"
      },
      "outputs": [],
      "source": [
        "arr = one_hot(connected_dataset)"
      ]
    },
    {
      "cell_type": "code",
      "execution_count": 722,
      "metadata": {
        "id": "mHAt7p0Zl8sd"
      },
      "outputs": [],
      "source": [
        "output = arr"
      ]
    },
    {
      "cell_type": "code",
      "execution_count": 737,
      "metadata": {
        "colab": {
          "base_uri": "https://localhost:8080/"
        },
        "id": "AX8V3edgjmaa",
        "outputId": "175c9e62-8972-4e49-818b-50151ebb64bb"
      },
      "outputs": [
        {
          "data": {
            "text/plain": [
              "826"
            ]
          },
          "execution_count": 737,
          "metadata": {},
          "output_type": "execute_result"
        }
      ],
      "source": [
        "len(output)"
      ]
    },
    {
      "cell_type": "code",
      "execution_count": 738,
      "metadata": {
        "id": "2aNOVvJSmYlo"
      },
      "outputs": [],
      "source": [
        "for i in range(len(embeddings_dash)):\n",
        "  np.pad(i, (6,6))"
      ]
    },
    {
      "cell_type": "code",
      "execution_count": null,
      "metadata": {
        "id": "gw3lhZdvmnAi"
      },
      "outputs": [],
      "source": [
        "embeddings_dash[0]"
      ]
    },
    {
      "cell_type": "code",
      "execution_count": 739,
      "metadata": {
        "id": "NjsNCHuz78yO"
      },
      "outputs": [],
      "source": [
        "input = embeddings_dash"
      ]
    },
    {
      "cell_type": "code",
      "execution_count": 740,
      "metadata": {
        "colab": {
          "base_uri": "https://localhost:8080/"
        },
        "id": "yFdaRH0725Bu",
        "outputId": "acef175a-b076-47aa-fd79-c3cef1762cea"
      },
      "outputs": [
        {
          "data": {
            "text/plain": [
              "826"
            ]
          },
          "execution_count": 740,
          "metadata": {},
          "output_type": "execute_result"
        }
      ],
      "source": [
        "len(input)"
      ]
    },
    {
      "cell_type": "code",
      "execution_count": 741,
      "metadata": {
        "colab": {
          "base_uri": "https://localhost:8080/"
        },
        "id": "h8sdSzsZ5iFD",
        "outputId": "0a16b7a3-62a4-4bed-ece6-217cb9a6512d"
      },
      "outputs": [
        {
          "data": {
            "text/plain": [
              "(826, 32)"
            ]
          },
          "execution_count": 741,
          "metadata": {},
          "output_type": "execute_result"
        }
      ],
      "source": [
        "input.shape"
      ]
    },
    {
      "cell_type": "code",
      "execution_count": 743,
      "metadata": {
        "id": "QHmjRY4c2XVu"
      },
      "outputs": [],
      "source": [
        "output.shape = input.shape"
      ]
    },
    {
      "cell_type": "code",
      "execution_count": 742,
      "metadata": {
        "colab": {
          "base_uri": "https://localhost:8080/"
        },
        "id": "iVlmu5FO2_0i",
        "outputId": "e9c38270-aa05-45dc-f1a7-4138161beb70"
      },
      "outputs": [
        {
          "data": {
            "text/plain": [
              "(826, 32)"
            ]
          },
          "execution_count": 742,
          "metadata": {},
          "output_type": "execute_result"
        }
      ],
      "source": [
        "output.shape"
      ]
    },
    {
      "cell_type": "code",
      "execution_count": 731,
      "metadata": {
        "id": "AO8ZXZj6jy0C"
      },
      "outputs": [],
      "source": [
        "import tensorflow as tf"
      ]
    },
    {
      "cell_type": "code",
      "execution_count": 732,
      "metadata": {
        "id": "MVhWqph3jZhz"
      },
      "outputs": [],
      "source": [
        "ann = tf.keras.models.Sequential()"
      ]
    },
    {
      "cell_type": "code",
      "execution_count": 733,
      "metadata": {
        "id": "IYJjPbNWjFqg"
      },
      "outputs": [],
      "source": [
        "ann.add(tf.keras.layers.Dense(20, activation='relu'))"
      ]
    },
    {
      "cell_type": "code",
      "execution_count": 748,
      "metadata": {
        "id": "D6GdiT_c9MhV"
      },
      "outputs": [],
      "source": [
        "ann.add(tf.keras.layers.Dense(units=32, activation='softmax'))"
      ]
    },
    {
      "cell_type": "code",
      "execution_count": 749,
      "metadata": {
        "id": "QSV07urnjFnq"
      },
      "outputs": [],
      "source": [
        "ann.compile(loss='categorical_crossentropy', optimizer='adam', metrics=['accuracy'])"
      ]
    },
    {
      "cell_type": "code",
      "execution_count": null,
      "metadata": {
        "id": "ERiS2-88jFkj"
      },
      "outputs": [],
      "source": [
        "ann.fit(input, output, batch_size = 5, epochs = 100)"
      ]
    },
    {
      "cell_type": "code",
      "execution_count": 778,
      "metadata": {
        "id": "RUP-0aSRjFhX"
      },
      "outputs": [],
      "source": [
        "test = []\n",
        "test.append(np.pad(model.wv['pain'], (6,6)))\n",
        "test = np.array(test)"
      ]
    },
    {
      "cell_type": "code",
      "execution_count": 783,
      "metadata": {
        "colab": {
          "base_uri": "https://localhost:8080/"
        },
        "id": "aoqpJxU7jFee",
        "outputId": "3396d2c2-abdf-419f-ec32-29fc69580510"
      },
      "outputs": [
        {
          "name": "stdout",
          "output_type": "stream",
          "text": [
            "Bidalasana\n"
          ]
        }
      ],
      "source": [
        "for i in range(len(asana_dataset['asanas'])):\n",
        "  if i == np.argmax(ann.predict(test)):\n",
        "    print(asana_dataset['asanas'][i])"
      ]
    }
  ],
  "metadata": {
    "colab": {
      "collapsed_sections": [],
      "name": "Yoga project summer 2022.ipynb",
      "provenance": []
    },
    "kernelspec": {
      "display_name": "Python 3.10.5 64-bit",
      "language": "python",
      "name": "python3"
    },
    "language_info": {
      "name": "python",
      "version": "3.10.5"
    },
    "vscode": {
      "interpreter": {
        "hash": "918b9c3ea0116da6d1a9e5d4728f48cb3f24a258ebfcc9b2de43cf9346626eac"
      }
    }
  },
  "nbformat": 4,
  "nbformat_minor": 0
}
